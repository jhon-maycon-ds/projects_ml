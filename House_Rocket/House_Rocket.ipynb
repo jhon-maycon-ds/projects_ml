{
 "cells": [
  {
   "cell_type": "markdown",
   "id": "e9a3fa6a",
   "metadata": {},
   "source": [
    "# Imports"
   ]
  },
  {
   "cell_type": "code",
   "execution_count": 73,
   "id": "52baf22c",
   "metadata": {},
   "outputs": [],
   "source": [
    "import pandas as pd\n",
    "from sklearn import linear_model as lm\n",
    "import numpy as np"
   ]
  },
  {
   "cell_type": "markdown",
   "id": "b724fa27",
   "metadata": {},
   "source": [
    "# Loading data"
   ]
  },
  {
   "cell_type": "code",
   "execution_count": 74,
   "id": "8d02114e",
   "metadata": {},
   "outputs": [],
   "source": [
    "df = pd.read_csv('dataset/kc_house_data.csv')"
   ]
  },
  {
   "cell_type": "markdown",
   "id": "af97fd52",
   "metadata": {},
   "source": [
    "# Data Preparation"
   ]
  },
  {
   "cell_type": "code",
   "execution_count": 75,
   "id": "1c44b06b",
   "metadata": {},
   "outputs": [],
   "source": [
    "# Fill NA/NaN values\n",
    "df.fillna(0, inplace = True)\n",
    "\n",
    "# features\n",
    "x_train = df.drop(['price', 'date'], axis=1)\n",
    "\n",
    "# response   \n",
    "y_train = df['price'].copy()"
   ]
  },
  {
   "cell_type": "markdown",
   "id": "29be29a7",
   "metadata": {},
   "source": [
    "# Model Training"
   ]
  },
  {
   "cell_type": "code",
   "execution_count": 76,
   "id": "175129f9",
   "metadata": {},
   "outputs": [
    {
     "data": {
      "text/plain": [
       "LinearRegression()"
      ]
     },
     "execution_count": 76,
     "metadata": {},
     "output_type": "execute_result"
    }
   ],
   "source": [
    "# model description\n",
    "model = lm.LinearRegression()\n",
    "\n",
    "# model training\n",
    "model.fit(x_train, y_train) "
   ]
  },
  {
   "cell_type": "code",
   "execution_count": 77,
   "id": "7138c279",
   "metadata": {},
   "outputs": [],
   "source": [
    "# prediction\n",
    "\n",
    "pred = model.predict(x_train)"
   ]
  },
  {
   "cell_type": "markdown",
   "id": "66a08428",
   "metadata": {},
   "source": [
    "# Performance Metrics"
   ]
  },
  {
   "cell_type": "code",
   "execution_count": 78,
   "id": "fceddb89",
   "metadata": {},
   "outputs": [],
   "source": [
    "df1 = df.copy()"
   ]
  },
  {
   "cell_type": "code",
   "execution_count": 79,
   "id": "5be0f9bf",
   "metadata": {},
   "outputs": [],
   "source": [
    "df1['prediction'] = pred"
   ]
  },
  {
   "cell_type": "code",
   "execution_count": 80,
   "id": "268254fa",
   "metadata": {},
   "outputs": [],
   "source": [
    "df1['error'] = df1['price'] - df1['prediction']\n",
    "df1['error_abs'] = np.abs(df1['error'])\n",
    "\n",
    "df1['error_perc'] = ((df1['price'] - df1['prediction'])/df1['price'])\n",
    "df1['error_perc_abs'] = np.abs(df1['error_perc'])"
   ]
  },
  {
   "cell_type": "code",
   "execution_count": 81,
   "id": "b0de9220",
   "metadata": {},
   "outputs": [
    {
     "data": {
      "text/html": [
       "<div>\n",
       "<style scoped>\n",
       "    .dataframe tbody tr th:only-of-type {\n",
       "        vertical-align: middle;\n",
       "    }\n",
       "\n",
       "    .dataframe tbody tr th {\n",
       "        vertical-align: top;\n",
       "    }\n",
       "\n",
       "    .dataframe thead th {\n",
       "        text-align: right;\n",
       "    }\n",
       "</style>\n",
       "<table border=\"1\" class=\"dataframe\">\n",
       "  <thead>\n",
       "    <tr style=\"text-align: right;\">\n",
       "      <th></th>\n",
       "      <th>id</th>\n",
       "      <th>price</th>\n",
       "      <th>prediction</th>\n",
       "      <th>error</th>\n",
       "      <th>error_abs</th>\n",
       "      <th>error_perc</th>\n",
       "      <th>error_perc_abs</th>\n",
       "    </tr>\n",
       "  </thead>\n",
       "  <tbody>\n",
       "    <tr>\n",
       "      <th>0</th>\n",
       "      <td>7129300520</td>\n",
       "      <td>221900.0</td>\n",
       "      <td>205756.179583</td>\n",
       "      <td>16143.820417</td>\n",
       "      <td>16143.820417</td>\n",
       "      <td>0.072753</td>\n",
       "      <td>0.072753</td>\n",
       "    </tr>\n",
       "    <tr>\n",
       "      <th>1</th>\n",
       "      <td>6414100192</td>\n",
       "      <td>538000.0</td>\n",
       "      <td>731243.277961</td>\n",
       "      <td>-193243.277961</td>\n",
       "      <td>193243.277961</td>\n",
       "      <td>-0.359188</td>\n",
       "      <td>0.359188</td>\n",
       "    </tr>\n",
       "    <tr>\n",
       "      <th>2</th>\n",
       "      <td>5631500400</td>\n",
       "      <td>180000.0</td>\n",
       "      <td>379128.516307</td>\n",
       "      <td>-199128.516307</td>\n",
       "      <td>199128.516307</td>\n",
       "      <td>-1.106270</td>\n",
       "      <td>1.106270</td>\n",
       "    </tr>\n",
       "    <tr>\n",
       "      <th>3</th>\n",
       "      <td>2487200875</td>\n",
       "      <td>604000.0</td>\n",
       "      <td>457407.575973</td>\n",
       "      <td>146592.424027</td>\n",
       "      <td>146592.424027</td>\n",
       "      <td>0.242703</td>\n",
       "      <td>0.242703</td>\n",
       "    </tr>\n",
       "    <tr>\n",
       "      <th>4</th>\n",
       "      <td>1954400510</td>\n",
       "      <td>510000.0</td>\n",
       "      <td>444781.489567</td>\n",
       "      <td>65218.510433</td>\n",
       "      <td>65218.510433</td>\n",
       "      <td>0.127879</td>\n",
       "      <td>0.127879</td>\n",
       "    </tr>\n",
       "  </tbody>\n",
       "</table>\n",
       "</div>"
      ],
      "text/plain": [
       "           id     price     prediction          error      error_abs  \\\n",
       "0  7129300520  221900.0  205756.179583   16143.820417   16143.820417   \n",
       "1  6414100192  538000.0  731243.277961 -193243.277961  193243.277961   \n",
       "2  5631500400  180000.0  379128.516307 -199128.516307  199128.516307   \n",
       "3  2487200875  604000.0  457407.575973  146592.424027  146592.424027   \n",
       "4  1954400510  510000.0  444781.489567   65218.510433   65218.510433   \n",
       "\n",
       "   error_perc  error_perc_abs  \n",
       "0    0.072753        0.072753  \n",
       "1   -0.359188        0.359188  \n",
       "2   -1.106270        1.106270  \n",
       "3    0.242703        0.242703  \n",
       "4    0.127879        0.127879  "
      ]
     },
     "execution_count": 81,
     "metadata": {},
     "output_type": "execute_result"
    }
   ],
   "source": [
    "df1[['id', 'price', 'prediction', 'error', 'error_abs', 'error_perc', 'error_perc_abs']].head()"
   ]
  },
  {
   "cell_type": "code",
   "execution_count": 82,
   "id": "2ce890b0",
   "metadata": {},
   "outputs": [
    {
     "data": {
      "text/plain": [
       "125919.21785067444"
      ]
     },
     "execution_count": 82,
     "metadata": {},
     "output_type": "execute_result"
    }
   ],
   "source": [
    "# mean absolute error\n",
    "np.mean(df1['error_abs'])"
   ]
  },
  {
   "cell_type": "code",
   "execution_count": 83,
   "id": "ad346b00",
   "metadata": {},
   "outputs": [
    {
     "data": {
      "text/plain": [
       "0.255809090348933"
      ]
     },
     "execution_count": 83,
     "metadata": {},
     "output_type": "execute_result"
    }
   ],
   "source": [
    "# mean absolute percentage error\n",
    "np.mean(df1['error_perc_abs'])"
   ]
  }
 ],
 "metadata": {
  "kernelspec": {
   "display_name": "Python 3",
   "language": "python",
   "name": "python3"
  },
  "language_info": {
   "codemirror_mode": {
    "name": "ipython",
    "version": 3
   },
   "file_extension": ".py",
   "mimetype": "text/x-python",
   "name": "python",
   "nbconvert_exporter": "python",
   "pygments_lexer": "ipython3",
   "version": "3.9.4"
  }
 },
 "nbformat": 4,
 "nbformat_minor": 5
}
